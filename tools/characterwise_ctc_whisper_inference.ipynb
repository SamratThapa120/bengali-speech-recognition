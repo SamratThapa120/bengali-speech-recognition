{
 "cells": [
  {
   "cell_type": "code",
   "execution_count": 1,
   "metadata": {},
   "outputs": [
    {
     "name": "stderr",
     "output_type": "stream",
     "text": [
      "/usr/local/lib/python3.8/dist-packages/tqdm/auto.py:22: TqdmWarning: IProgress not found. Please update jupyter and ipywidgets. See https://ipywidgets.readthedocs.io/en/stable/user_install.html\n",
      "  from .autonotebook import tqdm as notebook_tqdm\n"
     ]
    }
   ],
   "source": [
    "import sys\n",
    "import os\n",
    "import glob\n",
    "import torch\n",
    "import matplotlib.pyplot as plt\n",
    "import pandas as pd\n",
    "sys.path.append(\"../\")"
   ]
  },
  {
   "cell_type": "code",
   "execution_count": 11,
   "metadata": {},
   "outputs": [],
   "source": [
    "df = pd.read_csv(\"/app/dataset/metadata/annoated.csv\",sep=\"\t\")\n",
    "ROOT_DIR=\"/app/dataset/examples/\""
   ]
  },
  {
   "cell_type": "code",
   "execution_count": 16,
   "metadata": {},
   "outputs": [
    {
     "name": "stdout",
     "output_type": "stream",
     "text": [
      "inference mode is on\n"
     ]
    }
   ],
   "source": [
    "os.environ[\"CUDA_VISIBLE_DEVICES\"]=\"7\"\n",
    "from torch.utils.data import DataLoader\n",
    "from tqdm import tqdm\n",
    "from configs.whisper_characterwise import Configs\n",
    "files = df.file.apply(lambda x: os.path.join(ROOT_DIR,x))\n",
    "CFG = Configs(files,df.sentence)"
   ]
  },
  {
   "cell_type": "code",
   "execution_count": 18,
   "metadata": {},
   "outputs": [],
   "source": [
    "data_loader = DataLoader(CFG.inference_dataset,batch_size=64, pin_memory=True, num_workers=4)"
   ]
  },
  {
   "cell_type": "code",
   "execution_count": 19,
   "metadata": {},
   "outputs": [
    {
     "name": "stdout",
     "output_type": "stream",
     "text": [
      "loading model checkpoint from epoch:  14\n"
     ]
    },
    {
     "data": {
      "text/plain": [
       "1"
      ]
     },
     "execution_count": 19,
     "metadata": {},
     "output_type": "execute_result"
    }
   ],
   "source": [
    "device = \"cuda\"\n",
    "CFG.load_state_dict(\"/app/bengali-speech-recognition/workdir/whisperbase_characterlevel/bestmodel_wer.pkl\")\n",
    "CFG.model.to(device)\n",
    "1"
   ]
  },
  {
   "cell_type": "code",
   "execution_count": 20,
   "metadata": {},
   "outputs": [],
   "source": [
    "def infer(inputs):\n",
    "    batch_size = inputs.size(0)\n",
    "    generated_tokens = torch.ones((batch_size, 1), dtype=torch.long, device=device) * CFG.START_TOKEN\n",
    "    encoded_logits = CFG.model.encoder(inputs)\n",
    "    eos_flags = torch.zeros(batch_size, dtype=torch.bool, device=device)\n",
    "\n",
    "    for _ in range(CFG.MAX_PREDICTION_LENGTH):\n",
    "        logits = CFG.model.decoder(generated_tokens, encoded_logits)\n",
    "        next_token = torch.argmax(logits[:, -1, :], dim=-1, keepdim=True)\n",
    "        generated_tokens = torch.cat([generated_tokens, next_token], dim=1)\n",
    "\n",
    "        # Update end-of-sequence flags\n",
    "        eos_flags = eos_flags | (next_token.squeeze(-1) == CFG.END_TOKEN)\n",
    "\n",
    "        # Stop condition: if all sequences in the batch have generated <eos>\n",
    "        if eos_flags.all():\n",
    "            break\n",
    "    return generated_tokens"
   ]
  },
  {
   "cell_type": "code",
   "execution_count": 21,
   "metadata": {},
   "outputs": [],
   "source": [
    "from jiwer import wer, cer"
   ]
  },
  {
   "cell_type": "code",
   "execution_count": 24,
   "metadata": {},
   "outputs": [
    {
     "name": "stderr",
     "output_type": "stream",
     "text": [
      "100%|██████████| 1/1 [00:08<00:00,  8.27s/it]"
     ]
    },
    {
     "name": "stdout",
     "output_type": "stream",
     "text": [
      "0.9894057188531702 0.8006513027137135\n"
     ]
    },
    {
     "name": "stderr",
     "output_type": "stream",
     "text": [
      "\n"
     ]
    }
   ],
   "source": [
    "total_wer = 0\n",
    "total_cer = 0\n",
    "total_samples = 0\n",
    "\n",
    "truths = []\n",
    "predictions = []\n",
    "\n",
    "with torch.no_grad():\n",
    "    for batch in tqdm(data_loader):\n",
    "        inputs, _, target_tokens = batch\n",
    "\n",
    "        # Initialize tokens (assuming <sos> token is 0)\n",
    "        generated_tokens = infer(inputs.to(device)).detach().cpu()\n",
    "\n",
    "        generated_tokens = generated_tokens[:, 1:]  # Remove the start token\n",
    "        for gen,tar in zip(generated_tokens,target_tokens):\n",
    "            end_pos = (gen == CFG.END_TOKEN).nonzero(as_tuple=True)[0]\n",
    "            if len(end_pos) > 0:\n",
    "                gen = gen[:end_pos[0]] \n",
    "            hypothesis = CFG.tokenizer.decode_torch_inference(gen)\n",
    "            reference = CFG.tokenizer.decode_torch_inference(tar[tar!=CFG.PAD_TOKEN])\n",
    "\n",
    "            predictions.append(hypothesis)\n",
    "            truths.append(reference)\n",
    "\n",
    "            # total_wer += wer(reference, hypothesis)\n",
    "            # total_cer += cer(reference, hypothesis)\n",
    "            # total_samples += 1\n",
    "# avg_wer = total_wer / total_samples\n",
    "# avg_cer = total_cer / total_samples\n",
    "# print(avg_wer,avg_cer)"
   ]
  },
  {
   "cell_type": "code",
   "execution_count": 25,
   "metadata": {},
   "outputs": [
    {
     "data": {
      "text/plain": [
       "['সিনেমার ক্রিকেট সংগ্রহের কেপ টেবিল স্টেট বিশ্ববিদ্যালয়ের প্রথম ডাক্তার হিসেবে বর্ণনা করবেন বিশ্ববিদ্যালয়ের প্রথম ডাক্তার সাবেক ডেডব্লিং ডিরালবের সবক্তিশায়ীবিদ্যতায় সবিদীবিত সবিনিনিদ্বববিদেবিদ্বববিনাবিদ্ববিনাবংবংববংবংবংবংবংবংবংবংবংবংবংবংবংবং বং বং বং বং',\n",
       " 'তবে বিশ্ববিদ্যালয়ের প্রথম বিশ্ববিদ্যালয়ের প্রথম বিশ্ববিদ্যালয়টি ফিল্ড শিক্ষা বিভাগের শিক্ষক পদবী বিভাগের শিক্ষক সিলিন আব্দুল ফিল্ড ফিল্বে পাঠাক ছিলেন।',\n",
       " 'আমি তোমাকে প্রিয়াংকা বলে দিবো আমি তোমাকে বিশ্বাস করবো না তোমাকে ভালোবাসি।',\n",
       " 'তবে প্রথম বিশ্বকাপ শুরু হবে বাংলাদেশ প্রথম পার্বলিউড স্পেনের প্রথম প্রথম মুসলিম।',\n",
       " 'তিনি সার্কাস ও সিলেট সিলেট সিলেট সিলেট সার্কাসে স্বেচ্ছাবিদ সিলেট স্কটল্যান্ড বিশ্ববিদ্যালয়ের সাংবাদিক বিচার সম্পর্কে বিচার করেন, যদিল সিলাত সিলাত স্বাদ বিশিরববদে সিয়েন।',\n",
       " 'তবে বাংলাদেশ ব্যাংক ব্যাংক ব্যাংক ব্যাংক ব্যাংক ব্যাংক ব্যাংক সেবা পাওয়ার সিদ্ধান্ত নেওয়া হয়েছে।',\n",
       " 'এখানকার প্রধান পরিবেশ দ্বারপ্রাপ্ত প্রধান শিল্প প্রাক্তন স্থান প্রদর্শন করে এবং বাংলাদেশে শিল্প ব্যবস্থা সংক্রান্ত বিষয়ক বিভাগে স্নাতক ডিগ্স-লা-সং ক্রা-সেল সভুভুবিস্বদিডিডিচাল বদ্স বিভ ব বব প্র্য়েববিভ কর্ববিধিভ ছেখ-ব ব বববববিধ ববব বববববববববববিধ ববববিধ বব',\n",
       " 'আবার তার প্রতি আগে তার পরিবার আবদুর রাজ্জাক তার বাবার সাথে বিবাহ দিতে বাধ্য করেছিলেন।',\n",
       " 'তবে এই ক্যামেরা ক্যামেরা ক্যামেরা ক্যামেরা ক্যামেরা ক্যামেরা ক্যামেরা ক্যামেরা যাতে আছে ক্যামেরা থাকে তার ক্যামেরা ক্যামেরা ক্যামেরা ক্যামের তার ক্ষে তা বা ক্ষষষষ্য়।',\n",
       " 'সংসদে প্রশিক্ষণ মন্ত্রণালয়ের সংবাদ সম্মেলনে সংবাদ সংসদ বিজেএম সংসদ বিজেএম সংবাদ সংসদ বিজেএম সংসদ নিয়েছেন।',\n",
       " 'বাংলাদেশ যার প্রথম পার্থ বাংলাদেশ সরকার যার প্রধান সংগঠন সদস্য বাংলাদেশ স্বাধীনতা সংগ্রামী বাংলাদেশ সিরীয় সিভাপি সারিকাল পাকিস্তান সরকারী সংগঠিত সদাত সদসংগীতিত সং স্রতৃৃৃৃৃৃৃৃৃৃশিপ্থব স্থব সং স্থব বব সংংংগমিপ্থাং-বব স্থাংংং-বং-বববং-বংংংংংংংংংংংংংংংংংংংংংং',\n",
       " 'বিপ্রদাস বললে, বাবা-মা বিপ্রদাস বাবা-মায়ের ক্ষেত্রে বিভিন্ন বিপদ বলে বিভিন্ন বিপদ নে বিভিন্ন বিষয় নিয়ে আছে।',\n",
       " 'এই দলের প্রধান সদস্য ব্যাংক মিলনায়তনের প্রধান সদস্য ব্যাংক মিলন সংস্থা নিয়ামাত্রী ব্যাংক সংস্থা নিয়ামাব্যাপী বিপণিবিত হয়েছে।',\n",
       " 'বাংলাদেশ আন্তর্জাতিক বিমান বিশ্ববিদ্যালয়ের প্রধান বিভাগের প্রধান স্থান হল বিশ্ববিদ্যালয়ের প্রধান শিক্ষক শিক্ষিকাজু বিশ্ববিদ্যালয়ের প্রথম বিভাগের সদর দাযুভিনিত ছে।',\n",
       " 'এর কোন সংলাপের সমালোচনা করতে পারেননি সাইফ আবদুল মালিক বাংলা সংলাপন্থী সংলাপন এবং সাব ডেভেলপান সম্পর্কে বলতে পারেন না।',\n",
       " 'বিশ্ববিদ্যালয় প্রশাসন বিভিন্ন স্থানে প্রতিষ্ঠা করে বিশ্ববিদ্যালয় প্রশাসন বিভাগের সিনেট স্টাফ লাগানো শিক্ষা বোর্ডের সভাপতি।',\n",
       " 'তবে বাংলাদেশ দলের সাবেক প্রেসিডেন্ট মাহমুদ রেহমান খান তালেবান বাংলাদেশ সাবেক সালাম আদালত।']"
      ]
     },
     "execution_count": 25,
     "metadata": {},
     "output_type": "execute_result"
    }
   ],
   "source": [
    "predictions"
   ]
  }
 ],
 "metadata": {
  "kernelspec": {
   "display_name": "Python 3",
   "language": "python",
   "name": "python3"
  },
  "language_info": {
   "codemirror_mode": {
    "name": "ipython",
    "version": 3
   },
   "file_extension": ".py",
   "mimetype": "text/x-python",
   "name": "python",
   "nbconvert_exporter": "python",
   "pygments_lexer": "ipython3",
   "version": "3.8.10"
  },
  "orig_nbformat": 4
 },
 "nbformat": 4,
 "nbformat_minor": 2
}
