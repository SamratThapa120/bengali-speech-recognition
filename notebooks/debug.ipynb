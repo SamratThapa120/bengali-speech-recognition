{
 "cells": [
  {
   "cell_type": "code",
   "execution_count": 1,
   "metadata": {},
   "outputs": [],
   "source": [
    "import numpy as np"
   ]
  },
  {
   "cell_type": "code",
   "execution_count": 2,
   "metadata": {},
   "outputs": [
    {
     "name": "stderr",
     "output_type": "stream",
     "text": [
      "/usr/local/lib/python3.8/dist-packages/tqdm/auto.py:22: TqdmWarning: IProgress not found. Please update jupyter and ipywidgets. See https://ipywidgets.readthedocs.io/en/stable/user_install.html\n",
      "  from .autonotebook import tqdm as notebook_tqdm\n"
     ]
    }
   ],
   "source": [
    "import sys\n",
    "import os\n",
    "import torch\n",
    "import matplotlib.pyplot as plt\n",
    "sys.path.append(\"../\")"
   ]
  },
  {
   "cell_type": "code",
   "execution_count": 3,
   "metadata": {},
   "outputs": [],
   "source": [
    "import pandas as pd"
   ]
  },
  {
   "cell_type": "code",
   "execution_count": 4,
   "metadata": {},
   "outputs": [
    {
     "name": "stdout",
     "output_type": "stream",
     "text": [
      "length of train: 934048, length of valid: 2500\n"
     ]
    }
   ],
   "source": [
    "from bengali_asr.models import Whisper\n",
    "from configs.whisper_characterwise import Configs\n",
    "CFG = Configs()"
   ]
  },
  {
   "cell_type": "code",
   "execution_count": 5,
   "metadata": {},
   "outputs": [],
   "source": [
    "import matplotlib.pyplot as plt"
   ]
  },
  {
   "cell_type": "code",
   "execution_count": 6,
   "metadata": {},
   "outputs": [],
   "source": [
    "# lrs = []\n",
    "\n",
    "# # Simulate a training loop\n",
    "# for epoch in range(364900):\n",
    "#         # Forward pass, backward pass, and optimization steps would go here\n",
    "#         # ...\n",
    "\n",
    "#         # Record current learning rate\n",
    "#         lrs.append(CFG.optimizer.param_groups[0]['lr'])\n",
    "\n",
    "#         # Step the scheduler\n",
    "#         CFG.scheduler.step()\n",
    "\n",
    "# # Plot learning rates\n",
    "# plt.plot(lrs)\n",
    "# plt.xlabel('Iteration')\n",
    "# plt.ylabel('Learning Rate')\n",
    "# plt.title('One Cycle Learning Rate Policy')\n",
    "# plt.show()"
   ]
  },
  {
   "cell_type": "code",
   "execution_count": 7,
   "metadata": {},
   "outputs": [],
   "source": [
    "from trainer.whisper_trainer import Trainer"
   ]
  },
  {
   "cell_type": "code",
   "execution_count": 8,
   "metadata": {},
   "outputs": [],
   "source": [
    "CFG.DISTRIBUTED = False"
   ]
  },
  {
   "cell_type": "code",
   "execution_count": 9,
   "metadata": {},
   "outputs": [],
   "source": [
    "trainer = Trainer(CFG)"
   ]
  },
  {
   "cell_type": "code",
   "execution_count": 11,
   "metadata": {},
   "outputs": [],
   "source": [
    "z = next(iter(trainer.valid_loader))"
   ]
  },
  {
   "cell_type": "code",
   "execution_count": 16,
   "metadata": {},
   "outputs": [
    {
     "data": {
      "text/plain": [
       "<All keys matched successfully>"
      ]
     },
     "execution_count": 16,
     "metadata": {},
     "output_type": "execute_result"
    }
   ],
   "source": [
    "trainer.model.load_state_dict(torch.load(\"/app/bengali-speech-recognition/workdir/whisperbase_characterlevel_wer/bestmodel_wer.pkl\"))"
   ]
  },
  {
   "cell_type": "code",
   "execution_count": 17,
   "metadata": {},
   "outputs": [],
   "source": [
    "prediction = trainer.infer(z[0].to(\"cuda\"))"
   ]
  },
  {
   "cell_type": "code",
   "execution_count": 28,
   "metadata": {},
   "outputs": [],
   "source": [
    "truth = []\n",
    "preds = []\n",
    "\n",
    "for batch in trainer.valid_loader:\n",
    "    inputs, _, target_tokens = batch\n",
    "\n",
    "    # Initialize tokens (assuming <sos> token is 0)\n",
    "    generated_tokens = trainer.infer(inputs.to(trainer.model.device)).detach().cpu()\n",
    "\n",
    "    generated_tokens = generated_tokens[:, 1:]  # Remove the start token\n",
    "    for gen,tar in zip(generated_tokens,target_tokens):\n",
    "        end_pos = (gen == trainer.END_TOKEN).nonzero(as_tuple=True)[0]\n",
    "        if len(end_pos) > 0:\n",
    "            gen = gen[:end_pos[0]] \n",
    "        hypothesis = trainer.tokenizer.decode_torch_inference(gen)\n",
    "        reference = trainer.tokenizer.decode_torch_inference(tar[tar!=-1])\n",
    "        truth.append(reference)\n",
    "        preds.append(hypothesis)\n",
    "    break"
   ]
  },
  {
   "cell_type": "code",
   "execution_count": 30,
   "metadata": {},
   "outputs": [
    {
     "data": {
      "text/plain": [
       "['তিনি বিশ্বার করে বার করেনা কার করেনা কার করেনা কারে বলে পারিতে পারেনা।',\n",
       " 'তিনি বিশ্বার করে বার করেনা কার করেনা।',\n",
       " 'তিনি বিশ্বার করে বার করেনা কার করে বার করেনা।',\n",
       " 'তিনি কিছু কিছু কিছু করেনা।',\n",
       " 'তিনি বিশ্বার করে বার করেনা কার করেনা।',\n",
       " 'তিনি কিছু কিছু কিছু কিছু করেনা।',\n",
       " 'তিনি বিশ্বার করে বার করেনা কার করেনা কার করেনা কারে বার করেছেন।',\n",
       " 'আমার কি কিছু কিছু কিছু করে কেছে।',\n",
       " 'তিনি বিশ্বার করে বার করেনা কার করেনা।',\n",
       " 'তিনি কিছু কিছু কিছু কিছু করেনা।',\n",
       " 'আমার কি কিছু কিছু কিছু করে কেছে।',\n",
       " 'আমার কি কিছু কিছু কিছু করেছে।',\n",
       " 'আমার কি কিছু কিছু কিছু করেছে।',\n",
       " 'তিনি বিশ্বার করে বার করেনা কার করেনা।',\n",
       " 'তিনি বিশ্বার করে বার করেনা কার করেনা।',\n",
       " 'তিনি কিছু কিছু কিছু করেনা।',\n",
       " 'তিনি বিশ্বার করে বার করেনা কার করেনা।',\n",
       " 'তিনি বিশ্বার করে বার করেনা কার করেনা।',\n",
       " 'তিনি কিছু কিছু কিছু করেনা।',\n",
       " 'তিনি বিশ্বার করে বার করেনা কার করেনা।',\n",
       " 'তিনি কিছু কিছু কিছু কিছু করেনা।',\n",
       " 'আমার কি কিছু কিছু কিছু করেছে।',\n",
       " 'তিনি বিশ্বার করে বার করেনা কার করেনা।',\n",
       " 'তিনি বিশ্বার করে বার করেনা কার করেনা।',\n",
       " 'তিনি বিশ্বার করে বার করেনা কেছেন।',\n",
       " 'আমার কি কিছু কিছু কিছু করে কেছে।',\n",
       " 'তিনি বিশ্বার করে বার করেনা কার করেনা।',\n",
       " 'তিনি বিশ্বার করে বার করেনা কার করেনা কার করেনা কারে করেছেন।',\n",
       " 'তিনি বিশ্বার করে বার করেনা কার করেনা।',\n",
       " 'তিনি বিশ্বার করে বার করেনা কার করেনা।',\n",
       " 'আমার কি কিছু কিছু কিছু করে করে কেছে।',\n",
       " 'আমার কি কিছু কিছু কিছু করে কেছে।']"
      ]
     },
     "execution_count": 30,
     "metadata": {},
     "output_type": "execute_result"
    }
   ],
   "source": [
    "preds"
   ]
  },
  {
   "cell_type": "code",
   "execution_count": 22,
   "metadata": {},
   "outputs": [
    {
     "data": {
      "text/plain": [
       "['চতুর্থ সপ্তাহ থেকে অবস্থার উন্নতি হতে থাকে,কিন্তু এই উন্নতির হারের কিছু হেরফের আছে।',\n",
       " 'তার ছেলে আইনজীবী আসিফ আনোয়ার মুরাদ।',\n",
       " 'এটি ছিল তার প্রথম চলচ্চিত্র এবং এই কাজের মধ্য দিয়ে তিনি ভারত জুড়ে পরিচিতি লাভ করেন।',\n",
       " 'মানচিত্র দেখা তাঁর বিশেষ কয়েকটি শখের মধ্যে একটি।',\n",
       " 'এরপর সবাই স্নান করেন।',\n",
       " 'শাহরুখ খান পরবর্তীতে তার ভক্তের মৃত্যুতে শোক প্রকাশ করেন।',\n",
       " 'মহেশপুর ইউনিয়নের অনন্য গ্রামের শিক্ষা প্রতিষ্ঠান সমূহ',\n",
       " 'জেলে থাকাকালীন আইন পড়েছিলেন তিনি।',\n",
       " 'সুতরাং, মন্দির তৈরির অভিজ্ঞতা তাঁদের আগেই ছিল।',\n",
       " 'কেননা দেশটিতে দারিদ্রতা ব্যাপকহারে বৃদ্ধি পাচ্ছে।',\n",
       " 'তিনি মুম্বইয়ে ইংরেজি থিয়েটারের সাথে যুক্ত ছিলেন।',\n",
       " 'মেঘনা সেতু জাপানের সহায়তায় নির্মিত পৃথিবীর একক বৃহত্তম প্রকল্প।',\n",
       " 'তিনি চার বছর বয়স থেকেই সেতার বাজানো শুরু করেছিলেন।',\n",
       " 'তার উল্লেখযোগ্য শিক্ষক ছিলে পঞ্চম দলাই লামা ও চতুর্থ পাঞ্চেন লামা।',\n",
       " 'এটি পুরো কাঞ্চনজঙ্ঘা পর্বতের একটি প্রাথমিক দৃষ্টিভঙ্গি সরবরাহ করে।',\n",
       " 'স্বাধীনতার পর তিনি সংবিধান রচনায় গুরুত্বপূর্ণ ভূমিকা রাখেন এবং বাংলাদেশ বার কাউন্সিলের সহ-সভাপতি ছিলেন।',\n",
       " 'লি এবং ইয়াং ছিলেন প্রথম চীনা নোবেল বিজয়ী।',\n",
       " 'এই যানে সাধারণত একটি মাত্র অক্ষের সাথে চাকা দুটি যুক্ত থাকে।',\n",
       " 'এই হাসপাতালটি কোলকাতা শহরে অবস্থিত।',\n",
       " 'এর প্রতিষ্ঠাতা সভাপতি ছিলেন বিচারপতি আবদুস সাত্তার।',\n",
       " 'খেলাফতের আমলে আইনের মানদণ্ড তৈরী করার জন্য তিনি দামেস্কে গিয়েছিলেন এবং খলিফা আবদ আল-মালিকের প্রশাসনের নিয়োগ পান।',\n",
       " 'মূখ্য শিল্পী হিসাবে একক',\n",
       " 'সততা, সাহস ও চারিত্রিক দৃঢ়তার জন্য তিনি নন্দিত।',\n",
       " 'নিউ টেস্টামেন্ট বা বাইবেল এ একই কথা উল্লেখ আছে।',\n",
       " 'এর আছে নানা ভেষজ গুণ।',\n",
       " 'এছাড়াও, ডানহাতি মিডিয়াম বোলিংয়ে পারদর্শী তিনি।',\n",
       " 'তিনি সেনেগালের ফুটবল ক্লাব জেনারেশন ফুটের হয়ে ফুটবল ক্যারিয়ার শুরু করেন।',\n",
       " 'নেতাদের মধ্যে গুরুতর মতবিরোধের কারণে পাঁচ মাস ধরে সরকার গঠনের প্রক্রিয়া চলে।',\n",
       " 'কলকাতার অন্যতম ব্যস্ততম রেলস্টেশন, বিধাননগর রোড রেলস্টেশন, উল্টাডাঙ্গায় অবস্থিত।',\n",
       " 'যদিও তিনি নিজেকে সাধারণ মানুষের সমর্থক হিসেবে বর্ণনা করেন, তিনি সাধারণত আইন সভায় সরকারের সাথে ভোট দেন।',\n",
       " 'প্রথম ফয়সাল ইরাকের প্রথম বাদশাহ হন।',\n",
       " 'তার স্ত্রীর নাম রাজিয়া বেগম।']"
      ]
     },
     "execution_count": 22,
     "metadata": {},
     "output_type": "execute_result"
    }
   ],
   "source": [
    "truth"
   ]
  }
 ],
 "metadata": {
  "kernelspec": {
   "display_name": "Python 3",
   "language": "python",
   "name": "python3"
  },
  "language_info": {
   "codemirror_mode": {
    "name": "ipython",
    "version": 3
   },
   "file_extension": ".py",
   "mimetype": "text/x-python",
   "name": "python",
   "nbconvert_exporter": "python",
   "pygments_lexer": "ipython3",
   "version": "3.8.10"
  },
  "orig_nbformat": 4
 },
 "nbformat": 4,
 "nbformat_minor": 2
}
