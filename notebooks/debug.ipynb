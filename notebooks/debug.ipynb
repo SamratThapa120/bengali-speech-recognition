{
 "cells": [
  {
   "cell_type": "code",
   "execution_count": 1,
   "metadata": {},
   "outputs": [],
   "source": [
    "import numpy as np"
   ]
  },
  {
   "cell_type": "code",
   "execution_count": 2,
   "metadata": {},
   "outputs": [
    {
     "name": "stderr",
     "output_type": "stream",
     "text": [
      "/usr/local/lib/python3.8/dist-packages/tqdm/auto.py:22: TqdmWarning: IProgress not found. Please update jupyter and ipywidgets. See https://ipywidgets.readthedocs.io/en/stable/user_install.html\n",
      "  from .autonotebook import tqdm as notebook_tqdm\n"
     ]
    }
   ],
   "source": [
    "import sys\n",
    "import os\n",
    "import glob\n",
    "import torch\n",
    "import matplotlib.pyplot as pltm\n",
    "sys.path.append(\"../\")"
   ]
  },
  {
   "cell_type": "code",
   "execution_count": 13,
   "metadata": {},
   "outputs": [
    {
     "data": {
      "text/plain": [
       "tensor([[[-2.6900, -2.8972, -2.4524,  ..., -2.7921, -2.3668, -2.1915],\n",
       "         [-2.5132, -2.0067, -2.2320,  ..., -2.3898, -2.6501, -2.2271],\n",
       "         [-2.6637, -2.5450, -2.7162,  ..., -2.0569, -2.5848, -2.7163],\n",
       "         ...,\n",
       "         [-2.3806, -2.2363, -2.3622,  ..., -2.8613, -2.4012, -2.6425],\n",
       "         [-2.5614, -2.4737, -2.2435,  ..., -2.3352, -2.3570, -2.1837],\n",
       "         [-2.5711, -2.4694, -2.1055,  ..., -1.9351, -2.6035, -2.5101]],\n",
       "\n",
       "        [[-2.0791, -2.8740, -2.6530,  ..., -2.9666, -2.0174, -2.9076],\n",
       "         [-1.9560, -2.7018, -2.4927,  ..., -2.5026, -2.4375, -2.6018],\n",
       "         [-2.3214, -1.9967, -2.8599,  ..., -2.6945, -2.5890, -2.0933],\n",
       "         ...,\n",
       "         [-2.3415, -2.7695, -2.3894,  ..., -2.0255, -2.6429, -2.1100],\n",
       "         [-2.4881, -2.8941, -2.3659,  ..., -2.9328, -2.0111, -2.8638],\n",
       "         [-2.4226, -2.1255, -2.4675,  ..., -2.0890, -2.7077, -2.5772]],\n",
       "\n",
       "        [[-2.1727, -2.5306, -2.6060,  ..., -2.7733, -2.1121, -2.3714],\n",
       "         [-2.1657, -2.8263, -2.3549,  ..., -2.1982, -2.8349, -2.6137],\n",
       "         [-2.1851, -1.9734, -2.6514,  ..., -2.4818, -2.1095, -2.5955],\n",
       "         ...,\n",
       "         [-2.1109, -2.6790, -2.2120,  ..., -2.4779, -2.1240, -2.9596],\n",
       "         [-2.2510, -2.6359, -1.8729,  ..., -2.6243, -1.8519, -2.8138],\n",
       "         [-2.4683, -2.1269, -2.5475,  ..., -2.9331, -2.8754, -2.0121]],\n",
       "\n",
       "        ...,\n",
       "\n",
       "        [[-2.1526, -2.5296, -2.7958,  ..., -1.9598, -2.2206, -2.8248],\n",
       "         [-2.2368, -2.3251, -2.9067,  ..., -2.3647, -2.5371, -2.8708],\n",
       "         [-2.0965, -2.6364, -2.2272,  ..., -2.3923, -2.0483, -2.5717],\n",
       "         ...,\n",
       "         [-2.4284, -1.8960, -2.7496,  ..., -2.4133, -2.6354, -2.6651],\n",
       "         [-2.1518, -2.6270, -2.0735,  ..., -2.7795, -2.0934, -2.3872],\n",
       "         [-2.1659, -2.1260, -2.0617,  ..., -2.8783, -2.0686, -2.4224]],\n",
       "\n",
       "        [[-2.5257, -2.3565, -2.1535,  ..., -2.0860, -2.7373, -2.1759],\n",
       "         [-2.1181, -2.3039, -2.5147,  ..., -2.5877, -2.8861, -2.1460],\n",
       "         [-2.0976, -2.8054, -2.2957,  ..., -2.5652, -2.2049, -2.4590],\n",
       "         ...,\n",
       "         [-1.9806, -2.4317, -2.5854,  ..., -2.8599, -2.8081, -2.0374],\n",
       "         [-2.1342, -2.6322, -2.3986,  ..., -2.5683, -2.1974, -2.7483],\n",
       "         [-2.8604, -2.0370, -2.6562,  ..., -2.9328, -2.5001, -2.1576]],\n",
       "\n",
       "        [[-2.7253, -2.2756, -2.1217,  ..., -2.5175, -2.8316, -2.5517],\n",
       "         [-2.4202, -2.2134, -2.5972,  ..., -2.7277, -2.6571, -2.7145],\n",
       "         [-2.9646, -2.3544, -2.5019,  ..., -2.1049, -2.5897, -2.7618],\n",
       "         ...,\n",
       "         [-2.1486, -2.1874, -2.8346,  ..., -2.2884, -2.8151, -2.8753],\n",
       "         [-1.9532, -2.4843, -2.5174,  ..., -2.6558, -2.6580, -2.7246],\n",
       "         [-2.8856, -2.0594, -2.1919,  ..., -2.7852, -2.2485, -2.8689]]])"
      ]
     },
     "execution_count": 13,
     "metadata": {},
     "output_type": "execute_result"
    }
   ],
   "source": [
    "torch.nn.functional.log_softmax(torch.rand(10,10,11),2)"
   ]
  },
  {
   "cell_type": "code",
   "execution_count": 3,
   "metadata": {},
   "outputs": [],
   "source": [
    "import pandas as pd"
   ]
  },
  {
   "cell_type": "code",
   "execution_count": 4,
   "metadata": {},
   "outputs": [
    {
     "name": "stdout",
     "output_type": "stream",
     "text": [
      "inference mode is on\n"
     ]
    }
   ],
   "source": [
    "from bengali_asr.models import Whisper\n",
    "from configs.whisper_characterwise import Configs\n",
    "CFG = Configs([])"
   ]
  },
  {
   "cell_type": "code",
   "execution_count": 5,
   "metadata": {},
   "outputs": [],
   "source": [
    "import matplotlib.pyplot as plt"
   ]
  },
  {
   "cell_type": "code",
   "execution_count": 8,
   "metadata": {},
   "outputs": [],
   "source": [
    "CFG.DISTRIBUTED = False"
   ]
  },
  {
   "cell_type": "code",
   "execution_count": 9,
   "metadata": {},
   "outputs": [],
   "source": [
    "trainer = Trainer(CFG)"
   ]
  },
  {
   "cell_type": "code",
   "execution_count": 11,
   "metadata": {},
   "outputs": [],
   "source": [
    "z = next(iter(trainer.valid_loader))"
   ]
  },
  {
   "cell_type": "code",
   "execution_count": 16,
   "metadata": {},
   "outputs": [
    {
     "data": {
      "text/plain": [
       "<All keys matched successfully>"
      ]
     },
     "execution_count": 16,
     "metadata": {},
     "output_type": "execute_result"
    }
   ],
   "source": [
    "trainer.model.load_state_dict(torch.load(\"/app/bengali-speech-recognition/workdir/whisperbase_characterlevel_wer/bestmodel_wer.pkl\"))"
   ]
  },
  {
   "cell_type": "code",
   "execution_count": 17,
   "metadata": {},
   "outputs": [],
   "source": [
    "prediction = trainer.infer(z[0].to(\"cuda\"))"
   ]
  },
  {
   "cell_type": "code",
   "execution_count": null,
   "metadata": {},
   "outputs": [],
   "source": []
  }
 ],
 "metadata": {
  "kernelspec": {
   "display_name": "Python 3",
   "language": "python",
   "name": "python3"
  },
  "language_info": {
   "codemirror_mode": {
    "name": "ipython",
    "version": 3
   },
   "file_extension": ".py",
   "mimetype": "text/x-python",
   "name": "python",
   "nbconvert_exporter": "python",
   "pygments_lexer": "ipython3",
   "version": "3.8.10"
  },
  "orig_nbformat": 4
 },
 "nbformat": 4,
 "nbformat_minor": 2
}
