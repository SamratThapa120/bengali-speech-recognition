{
 "cells": [
  {
   "cell_type": "code",
   "execution_count": 1,
   "metadata": {},
   "outputs": [],
   "source": [
    "import pandas as pd\n",
    "import numpy as np\n",
    "import plotly.express as px\n",
    "import glob\n",
    "import os"
   ]
  },
  {
   "cell_type": "code",
   "execution_count": 2,
   "metadata": {},
   "outputs": [],
   "source": [
    "metadata = pd.read_csv(\"/app/dataset/metadata/train_metadata.csv\")\n",
    "valid = pd.read_csv(\"/app/dataset/valid_data.csv\")\n",
    "train = pd.read_csv(\"/app/dataset/train_data.csv\")\n",
    "valid_subset = pd.read_csv(\"/app/dataset/valid_data_subset.csv\")"
   ]
  },
  {
   "cell_type": "code",
   "execution_count": 3,
   "metadata": {},
   "outputs": [],
   "source": [
    "valid[\"mergeid\"] = valid[\"id\"].apply(lambda x: x.split(\".\")[0])\n",
    "train[\"mergeid\"] = train[\"id\"].apply(lambda x: x.split(\".\")[0])\n",
    "valid_subset[\"mergeid\"] = valid_subset[\"id\"].apply(lambda x: x.split(\".\")[0])"
   ]
  },
  {
   "cell_type": "code",
   "execution_count": 4,
   "metadata": {},
   "outputs": [
    {
     "data": {
      "text/plain": [
       "ggl_cer    0.800538\n",
       "ggl_wer    1.010345\n",
       "ykg_wer    0.494660\n",
       "ykg_cer    0.237798\n",
       "dtype: float64"
      ]
     },
     "execution_count": 4,
     "metadata": {},
     "output_type": "execute_result"
    }
   ],
   "source": [
    "COLS = ['ggl_cer', 'ggl_wer','ykg_wer', 'ykg_cer']\n",
    "metadata[COLS].mean()\n",
    "# pd.merge(train,metadata[COLS],left_on=\"mergeid\",right_on=\"id\",how=\"inner\")"
   ]
  },
  {
   "cell_type": "code",
   "execution_count": 7,
   "metadata": {},
   "outputs": [
    {
     "data": {
      "text/plain": [
       "array([], dtype=object)"
      ]
     },
     "execution_count": 7,
     "metadata": {},
     "output_type": "execute_result"
    }
   ],
   "source": [
    "np.intersect1d(valid_subset.id,train.id)"
   ]
  }
 ],
 "metadata": {
  "kernelspec": {
   "display_name": "Python 3",
   "language": "python",
   "name": "python3"
  },
  "language_info": {
   "codemirror_mode": {
    "name": "ipython",
    "version": 3
   },
   "file_extension": ".py",
   "mimetype": "text/x-python",
   "name": "python",
   "nbconvert_exporter": "python",
   "pygments_lexer": "ipython3",
   "version": "3.8.10"
  },
  "orig_nbformat": 4
 },
 "nbformat": 4,
 "nbformat_minor": 2
}
