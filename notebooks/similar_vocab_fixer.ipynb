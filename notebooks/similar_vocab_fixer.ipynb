{
 "cells": [
  {
   "cell_type": "code",
   "execution_count": 24,
   "metadata": {},
   "outputs": [],
   "source": [
    "from IPython.display import Audio, display\n",
    "import plotly.express as px\n",
    "import numpy as np\n",
    "from tqdm import tqdm"
   ]
  },
  {
   "cell_type": "code",
   "execution_count": 2,
   "metadata": {},
   "outputs": [
    {
     "name": "stderr",
     "output_type": "stream",
     "text": [
      "/usr/local/lib/python3.8/dist-packages/tqdm/auto.py:22: TqdmWarning: IProgress not found. Please update jupyter and ipywidgets. See https://ipywidgets.readthedocs.io/en/stable/user_install.html\n",
      "  from .autonotebook import tqdm as notebook_tqdm\n"
     ]
    }
   ],
   "source": [
    "import sys\n",
    "import os\n",
    "from jiwer import wer, cer\n",
    "\n",
    "import glob\n",
    "import torch\n",
    "import pandas as pd\n",
    "import matplotlib.pyplot as pltm"
   ]
  },
  {
   "cell_type": "code",
   "execution_count": 40,
   "metadata": {},
   "outputs": [],
   "source": [
    "df = pd.read_csv(\"../workdir/csvs/submission.csv\")\n",
    "all_vocabs = {}\n",
    "vocabs_idx = {}\n",
    "with open(\"../workdir/csvs/vocab.txt\") as f:\n",
    "    for idx,l in enumerate(f.readlines()):\n",
    "        all_vocabs[l.strip()] = idx\n",
    "        vocabs_idx[idx]  = l.strip()"
   ]
  },
  {
   "cell_type": "code",
   "execution_count": 10,
   "metadata": {},
   "outputs": [
    {
     "name": "stderr",
     "output_type": "stream",
     "text": [
      "/tmp/ipykernel_2726510/948830026.py:3: DtypeWarning: Columns (1) have mixed types. Specify dtype option on import or set low_memory=False.\n",
      "  train = pd.read_csv(\"/app/dataset/train_data_with_openasr.csv\")\n"
     ]
    }
   ],
   "source": [
    "metadata = pd.read_csv(\"/app/dataset/metadata/train_metadata.csv\")\n",
    "valid = pd.read_csv(\"/app/dataset/valid_data.csv\")\n",
    "train = pd.read_csv(\"/app/dataset/train_data_with_openasr.csv\")\n",
    "valid_subset = pd.read_csv(\"/app/dataset/valid_data_subset.csv\")\n",
    "ood_data = pd.read_csv(\"/app/dataset/metadata/annoated.csv\",delimiter=\"\t\")"
   ]
  },
  {
   "cell_type": "code",
   "execution_count": 14,
   "metadata": {},
   "outputs": [],
   "source": [
    "VOCAB = set(['!', '?', ',', '।', '-', '‘', '’', '\"', ';', '–', \"'\", ':', '/', '.', '“', '”'])"
   ]
  },
  {
   "cell_type": "code",
   "execution_count": 25,
   "metadata": {},
   "outputs": [
    {
     "name": "stderr",
     "output_type": "stream",
     "text": [
      "100%|██████████| 989602/989602 [00:02<00:00, 344635.98it/s]\n"
     ]
    }
   ],
   "source": [
    "hit = 0\n",
    "total = 0 \n",
    "not_vocab = []\n",
    "for sent in tqdm(train.sentence.apply(lambda x: \"\".join([t for t in x if t not in VOCAB]))):\n",
    "    for w in sent.split(\" \"):\n",
    "        if w in all_vocabs:\n",
    "            hit+=1\n",
    "        else:\n",
    "            not_vocab.append(w)\n",
    "        total+=1"
   ]
  },
  {
   "cell_type": "code",
   "execution_count": 82,
   "metadata": {},
   "outputs": [],
   "source": [
    "import editdistance"
   ]
  },
  {
   "cell_type": "code",
   "execution_count": 102,
   "metadata": {},
   "outputs": [],
   "source": [
    "def cer(word1, word2):\n",
    "    \"\"\"\n",
    "    Calculate the Character Error Rate (CER) between two words.\n",
    "    \"\"\"\n",
    "    # Calculate Levenshtein distance\n",
    "    distance = editdistance.eval(word1, word2)\n",
    "    \n",
    "    # Calculate CER\n",
    "    return distance / (len(word2)+1e-5)\n",
    "\n",
    "def fix_sentence(sentence, vocabulary,vocabulary_idx, T=0.05):\n",
    "    \"\"\"\n",
    "    Fix the sentence using the given vocabulary and threshold T.\n",
    "    \"\"\"\n",
    "    # Split the sentence into words\n",
    "    words = sentence.split()\n",
    "    \n",
    "    # For each word in the sentence\n",
    "    for i, word in enumerate(words):\n",
    "        # If the word is not in the vocabulary\n",
    "        if word not in vocabulary:\n",
    "            # Calculate IOU with each word in the vocabulary\n",
    "            ious = [cer(word, vocab_word) for vocab_word in vocabulary]\n",
    "            \n",
    "            # Get the maximum IOU and its index\n",
    "            max_iou = min(ious)\n",
    "            max_iou_index = ious.index(max_iou)\n",
    "            \n",
    "            # If the maximum IOU is above the threshold T\n",
    "            if max_iou < T:\n",
    "                print(f\"Replacing {words[i]} with {vocabulary_idx[max_iou_index]}\")\n",
    "                # Replace the word in the sentence with the word from the vocabulary\n",
    "                words[i] = vocabulary_idx[max_iou_index]\n",
    "    # Join the words back into a sentence\n",
    "    return ' '.join(words)"
   ]
  },
  {
   "cell_type": "code",
   "execution_count": 103,
   "metadata": {},
   "outputs": [
    {
     "name": "stderr",
     "output_type": "stream",
     "text": [
      "100%|██████████| 1000/1000 [06:19<00:00,  2.63it/s]\n"
     ]
    }
   ],
   "source": [
    "fixed_sebntence = []\n",
    "for sent in tqdm(df.sentence): \n",
    "    fixed_sebntence.append(fix_sentence(sent,all_vocabs,vocabs_idx))"
   ]
  },
  {
   "cell_type": "code",
   "execution_count": 104,
   "metadata": {},
   "outputs": [],
   "source": [
    "df[\"fixed\"] = fixed_sebntence"
   ]
  },
  {
   "cell_type": "code",
   "execution_count": 106,
   "metadata": {},
   "outputs": [
    {
     "data": {
      "text/plain": [
       "0.24966049700213785"
      ]
     },
     "execution_count": 106,
     "metadata": {},
     "output_type": "execute_result"
    }
   ],
   "source": [
    "np.mean([wer(a,b) for a,b in zip(df.gts,df.sentence)])"
   ]
  },
  {
   "cell_type": "code",
   "execution_count": 107,
   "metadata": {},
   "outputs": [
    {
     "data": {
      "text/html": [
       "<div>\n",
       "<style scoped>\n",
       "    .dataframe tbody tr th:only-of-type {\n",
       "        vertical-align: middle;\n",
       "    }\n",
       "\n",
       "    .dataframe tbody tr th {\n",
       "        vertical-align: top;\n",
       "    }\n",
       "\n",
       "    .dataframe thead th {\n",
       "        text-align: right;\n",
       "    }\n",
       "</style>\n",
       "<table border=\"1\" class=\"dataframe\">\n",
       "  <thead>\n",
       "    <tr style=\"text-align: right;\">\n",
       "      <th></th>\n",
       "      <th>id</th>\n",
       "      <th>sentence</th>\n",
       "      <th>gts</th>\n",
       "      <th>fixed</th>\n",
       "    </tr>\n",
       "  </thead>\n",
       "  <tbody>\n",
       "    <tr>\n",
       "      <th>0</th>\n",
       "      <td>765938ad67d9</td>\n",
       "      <td>তিনি এই কর্মসূচির গুরুত্ব জাতীয় নিরাপত্তা এবং ...</td>\n",
       "      <td>তিনি এই কর্মসূচির গুরুত্ব জাতীয় নিরাপত্তা, এব...</td>\n",
       "      <td>তিনি এই কর্মসূচির গুরুত্ব জাতীয় নিরাপত্তা এবং ...</td>\n",
       "    </tr>\n",
       "    <tr>\n",
       "      <th>1</th>\n",
       "      <td>60ff1ac8da38</td>\n",
       "      <td>সারদা দেবী সমাজসেবায় সক্রিয় ছিলেন।</td>\n",
       "      <td>সারদা দেবী সমাজ সেবায় সক্রিয় ছিলেন।</td>\n",
       "      <td>সারদা দেবী সমাজসেবায় সক্রিয় ছিলেন।</td>\n",
       "    </tr>\n",
       "    <tr>\n",
       "      <th>2</th>\n",
       "      <td>6d554cd13741</td>\n",
       "      <td>বিবেকানন্দ উত্তরে বলেছিলেন ভারতকে ভালোবেসে।</td>\n",
       "      <td>বিবেকানন্দ উত্তরে বলেছিলেন, \"ভারতকে ভালবেসে\"।</td>\n",
       "      <td>বিবেকানন্দ উত্তরে বলেছিলেন ভারতকে ভালোবেসে।</td>\n",
       "    </tr>\n",
       "    <tr>\n",
       "      <th>3</th>\n",
       "      <td>3a023659f5bf</td>\n",
       "      <td>এই ক্রম অনুসারে পরবর্তী লাইনগুলি চলতে থাকে।</td>\n",
       "      <td>এই ক্রম অনুসারে পরবর্তী লাইন গুলো চলতে থাকে।</td>\n",
       "      <td>এই ক্রম অনুসারে পরবর্তী লাইনগুলি চলতে থাকে।</td>\n",
       "    </tr>\n",
       "    <tr>\n",
       "      <th>4</th>\n",
       "      <td>6faacc0aceaa</td>\n",
       "      <td>বাহাদুর বাদ ঘাট স্টেশন বন্ধ হওয়ার পর নারায়ণগঞ্...</td>\n",
       "      <td>বাহাদুরাবাদ ঘাট স্টেশন বন্ধ হওয়ার পর নারায়ণগ...</td>\n",
       "      <td>বাহাদুর বাদ ঘাট স্টেশন বন্ধ হওয়ার পর নারায়ণগঞ্...</td>\n",
       "    </tr>\n",
       "    <tr>\n",
       "      <th>...</th>\n",
       "      <td>...</td>\n",
       "      <td>...</td>\n",
       "      <td>...</td>\n",
       "      <td>...</td>\n",
       "    </tr>\n",
       "    <tr>\n",
       "      <th>995</th>\n",
       "      <td>f0abd8f6971a</td>\n",
       "      <td>এর প্রশান্ত মহাসাগরের তীরে রয়েছে সরু সম্ভমে এল...</td>\n",
       "      <td>এর প্রশান্ত মহাসাগরের তীরে রয়েছে সরু সমভূমি এ...</td>\n",
       "      <td>এর প্রশান্ত মহাসাগরের তীরে রয়েছে সরু সম্ভমে এল...</td>\n",
       "    </tr>\n",
       "    <tr>\n",
       "      <th>996</th>\n",
       "      <td>2309556fca54</td>\n",
       "      <td>পাওয়ার চেয়ার ব্যবহারকারীদের জন্যে এটিই একমাত্র...</td>\n",
       "      <td>পাওয়ার চেয়ার ব্যবহারকারীদের জন্যে এটিই একমাত...</td>\n",
       "      <td>পাওয়ার চেয়ার ব্যবহারকারীদের জন্যে এটিই একমাত্র...</td>\n",
       "    </tr>\n",
       "    <tr>\n",
       "      <th>997</th>\n",
       "      <td>8d512bd29b64</td>\n",
       "      <td>তিনি ইস্তাম্বুলে মারা যান।</td>\n",
       "      <td>তিনি ইস্তাম্বুলে মারা যান।</td>\n",
       "      <td>তিনি ইস্তাম্বুলে মারা যান।</td>\n",
       "    </tr>\n",
       "    <tr>\n",
       "      <th>998</th>\n",
       "      <td>fffd69cdd76c</td>\n",
       "      <td>আবদুল লতিফ আঞ্জুমানের সঙ্গে প্রত্যক্ষ ভাবে জড়ি...</td>\n",
       "      <td>আবদুল লতিফ আঞ্জুমানের সঙ্গে প্রত্যক্ষভাবে জড়ি...</td>\n",
       "      <td>আবদুল লতিফ আঞ্জুমানের সঙ্গে প্রত্যক্ষ ভাবে জড়ি...</td>\n",
       "    </tr>\n",
       "    <tr>\n",
       "      <th>999</th>\n",
       "      <td>00cfcf06609b</td>\n",
       "      <td>ইদগা ইউনিয়নের উত্তর প্রান্ত দিয়ে প্রবাহিত হচ্ছ...</td>\n",
       "      <td>ঈদগাঁও ইউনিয়নের উত্তর প্রান্ত দিয়ে প্রবাহিত ...</td>\n",
       "      <td>ইদগা ইউনিয়নের উত্তর প্রান্ত দিয়ে প্রবাহিত হচ্ছ...</td>\n",
       "    </tr>\n",
       "  </tbody>\n",
       "</table>\n",
       "<p>1000 rows × 4 columns</p>\n",
       "</div>"
      ],
      "text/plain": [
       "               id                                           sentence  \\\n",
       "0    765938ad67d9  তিনি এই কর্মসূচির গুরুত্ব জাতীয় নিরাপত্তা এবং ...   \n",
       "1    60ff1ac8da38                 সারদা দেবী সমাজসেবায় সক্রিয় ছিলেন।   \n",
       "2    6d554cd13741        বিবেকানন্দ উত্তরে বলেছিলেন ভারতকে ভালোবেসে।   \n",
       "3    3a023659f5bf        এই ক্রম অনুসারে পরবর্তী লাইনগুলি চলতে থাকে।   \n",
       "4    6faacc0aceaa  বাহাদুর বাদ ঘাট স্টেশন বন্ধ হওয়ার পর নারায়ণগঞ্...   \n",
       "..            ...                                                ...   \n",
       "995  f0abd8f6971a  এর প্রশান্ত মহাসাগরের তীরে রয়েছে সরু সম্ভমে এল...   \n",
       "996  2309556fca54  পাওয়ার চেয়ার ব্যবহারকারীদের জন্যে এটিই একমাত্র...   \n",
       "997  8d512bd29b64                         তিনি ইস্তাম্বুলে মারা যান।   \n",
       "998  fffd69cdd76c  আবদুল লতিফ আঞ্জুমানের সঙ্গে প্রত্যক্ষ ভাবে জড়ি...   \n",
       "999  00cfcf06609b  ইদগা ইউনিয়নের উত্তর প্রান্ত দিয়ে প্রবাহিত হচ্ছ...   \n",
       "\n",
       "                                                   gts  \\\n",
       "0    তিনি এই কর্মসূচির গুরুত্ব জাতীয় নিরাপত্তা, এব...   \n",
       "1                সারদা দেবী সমাজ সেবায় সক্রিয় ছিলেন।   \n",
       "2        বিবেকানন্দ উত্তরে বলেছিলেন, \"ভারতকে ভালবেসে\"।   \n",
       "3         এই ক্রম অনুসারে পরবর্তী লাইন গুলো চলতে থাকে।   \n",
       "4    বাহাদুরাবাদ ঘাট স্টেশন বন্ধ হওয়ার পর নারায়ণগ...   \n",
       "..                                                 ...   \n",
       "995  এর প্রশান্ত মহাসাগরের তীরে রয়েছে সরু সমভূমি এ...   \n",
       "996  পাওয়ার চেয়ার ব্যবহারকারীদের জন্যে এটিই একমাত...   \n",
       "997                         তিনি ইস্তাম্বুলে মারা যান।   \n",
       "998  আবদুল লতিফ আঞ্জুমানের সঙ্গে প্রত্যক্ষভাবে জড়ি...   \n",
       "999  ঈদগাঁও ইউনিয়নের উত্তর প্রান্ত দিয়ে প্রবাহিত ...   \n",
       "\n",
       "                                                 fixed  \n",
       "0    তিনি এই কর্মসূচির গুরুত্ব জাতীয় নিরাপত্তা এবং ...  \n",
       "1                   সারদা দেবী সমাজসেবায় সক্রিয় ছিলেন।  \n",
       "2          বিবেকানন্দ উত্তরে বলেছিলেন ভারতকে ভালোবেসে।  \n",
       "3          এই ক্রম অনুসারে পরবর্তী লাইনগুলি চলতে থাকে।  \n",
       "4    বাহাদুর বাদ ঘাট স্টেশন বন্ধ হওয়ার পর নারায়ণগঞ্...  \n",
       "..                                                 ...  \n",
       "995  এর প্রশান্ত মহাসাগরের তীরে রয়েছে সরু সম্ভমে এল...  \n",
       "996  পাওয়ার চেয়ার ব্যবহারকারীদের জন্যে এটিই একমাত্র...  \n",
       "997                         তিনি ইস্তাম্বুলে মারা যান।  \n",
       "998  আবদুল লতিফ আঞ্জুমানের সঙ্গে প্রত্যক্ষ ভাবে জড়ি...  \n",
       "999  ইদগা ইউনিয়নের উত্তর প্রান্ত দিয়ে প্রবাহিত হচ্ছ...  \n",
       "\n",
       "[1000 rows x 4 columns]"
      ]
     },
     "execution_count": 107,
     "metadata": {},
     "output_type": "execute_result"
    }
   ],
   "source": [
    "df"
   ]
  }
 ],
 "metadata": {
  "kernelspec": {
   "display_name": "Python 3",
   "language": "python",
   "name": "python3"
  },
  "language_info": {
   "codemirror_mode": {
    "name": "ipython",
    "version": 3
   },
   "file_extension": ".py",
   "mimetype": "text/x-python",
   "name": "python",
   "nbconvert_exporter": "python",
   "pygments_lexer": "ipython3",
   "version": "3.8.10"
  },
  "orig_nbformat": 4
 },
 "nbformat": 4,
 "nbformat_minor": 2
}
