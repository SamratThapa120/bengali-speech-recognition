{
 "cells": [
  {
   "cell_type": "code",
   "execution_count": 10,
   "metadata": {},
   "outputs": [
    {
     "name": "stderr",
     "output_type": "stream",
     "text": [
      "/usr/local/lib/python3.8/dist-packages/tqdm/auto.py:22: TqdmWarning: IProgress not found. Please update jupyter and ipywidgets. See https://ipywidgets.readthedocs.io/en/stable/user_install.html\n",
      "  from .autonotebook import tqdm as notebook_tqdm\n"
     ]
    }
   ],
   "source": [
    "import torch\n",
    "from transformers import Wav2Vec2Model\n",
    "class Wav2Vec2Base(torch.nn.Module):\n",
    "    def __init__(self, vocab_size,attention_dropout=0.1, hidden_dropout=0.1, feat_proj_dropout = 0.1,\n",
    "                    mask_time_prob=0.075,layerdrop=0.1,classifier_dropout=0.1,pretrained=\"facebook/wav2vec2-xls-r-300m\"):\n",
    "        super().__init__()\n",
    "        if pretrained is not None:\n",
    "            self.model = Wav2Vec2Model.from_pretrained(\n",
    "                pretrained, \n",
    "                attention_dropout=attention_dropout,\n",
    "                hidden_dropout=hidden_dropout,\n",
    "                feat_proj_dropout=feat_proj_dropout,\n",
    "                mask_time_prob=mask_time_prob,\n",
    "                layerdrop=layerdrop)\n",
    "        else:\n",
    "            raise ValueError(\"non preteained model is not supported yet\")\n",
    "        self.dropout = torch.nn.Dropout(p=classifier_dropout)\n",
    "        self.classifier = torch.nn.Linear(1024,vocab_size)\n",
    "\n",
    "    def forward(self,inp):\n",
    "        return self.classifier(self.dropout(self.model(inp).last_hidden_state))"
   ]
  },
  {
   "cell_type": "code",
   "execution_count": 13,
   "metadata": {},
   "outputs": [
    {
     "name": "stderr",
     "output_type": "stream",
     "text": [
      "/usr/local/lib/python3.8/dist-packages/torch/storage.py:315: UserWarning: TypedStorage is deprecated. It will be removed in the future and UntypedStorage will be the only storage class. This should only matter to you if you are using storages directly.\n",
      "  warnings.warn(message, UserWarning)\n"
     ]
    }
   ],
   "source": [
    "model = Wav2Vec2Base(80)"
   ]
  },
  {
   "cell_type": "code",
   "execution_count": 16,
   "metadata": {},
   "outputs": [
    {
     "data": {
      "text/plain": [
       "Wav2Vec2FeatureEncoder(\n",
       "  (conv_layers): ModuleList(\n",
       "    (0): Wav2Vec2LayerNormConvLayer(\n",
       "      (conv): Conv1d(1, 512, kernel_size=(10,), stride=(5,))\n",
       "      (layer_norm): LayerNorm((512,), eps=1e-05, elementwise_affine=True)\n",
       "      (activation): GELUActivation()\n",
       "    )\n",
       "    (1): Wav2Vec2LayerNormConvLayer(\n",
       "      (conv): Conv1d(512, 512, kernel_size=(3,), stride=(2,))\n",
       "      (layer_norm): LayerNorm((512,), eps=1e-05, elementwise_affine=True)\n",
       "      (activation): GELUActivation()\n",
       "    )\n",
       "    (2): Wav2Vec2LayerNormConvLayer(\n",
       "      (conv): Conv1d(512, 512, kernel_size=(3,), stride=(2,))\n",
       "      (layer_norm): LayerNorm((512,), eps=1e-05, elementwise_affine=True)\n",
       "      (activation): GELUActivation()\n",
       "    )\n",
       "    (3): Wav2Vec2LayerNormConvLayer(\n",
       "      (conv): Conv1d(512, 512, kernel_size=(3,), stride=(2,))\n",
       "      (layer_norm): LayerNorm((512,), eps=1e-05, elementwise_affine=True)\n",
       "      (activation): GELUActivation()\n",
       "    )\n",
       "    (4): Wav2Vec2LayerNormConvLayer(\n",
       "      (conv): Conv1d(512, 512, kernel_size=(3,), stride=(2,))\n",
       "      (layer_norm): LayerNorm((512,), eps=1e-05, elementwise_affine=True)\n",
       "      (activation): GELUActivation()\n",
       "    )\n",
       "    (5): Wav2Vec2LayerNormConvLayer(\n",
       "      (conv): Conv1d(512, 512, kernel_size=(2,), stride=(2,))\n",
       "      (layer_norm): LayerNorm((512,), eps=1e-05, elementwise_affine=True)\n",
       "      (activation): GELUActivation()\n",
       "    )\n",
       "    (6): Wav2Vec2LayerNormConvLayer(\n",
       "      (conv): Conv1d(512, 512, kernel_size=(2,), stride=(2,))\n",
       "      (layer_norm): LayerNorm((512,), eps=1e-05, elementwise_affine=True)\n",
       "      (activation): GELUActivation()\n",
       "    )\n",
       "  )\n",
       ")"
      ]
     },
     "execution_count": 16,
     "metadata": {},
     "output_type": "execute_result"
    }
   ],
   "source": [
    "model.model.feature_extractor"
   ]
  },
  {
   "cell_type": "code",
   "execution_count": 80,
   "metadata": {},
   "outputs": [],
   "source": [
    "inp = torch.randn(1,60000)\n",
    "with torch.no_grad():\n",
    "    result = model(inp)"
   ]
  },
  {
   "cell_type": "code",
   "execution_count": 83,
   "metadata": {},
   "outputs": [
    {
     "data": {
      "text/plain": [
       "torch.Size([1, 187, 1024])"
      ]
     },
     "execution_count": 83,
     "metadata": {},
     "output_type": "execute_result"
    }
   ],
   "source": [
    "result.last_hidden_state.shape"
   ]
  }
 ],
 "metadata": {
  "kernelspec": {
   "display_name": "Python 3",
   "language": "python",
   "name": "python3"
  },
  "language_info": {
   "codemirror_mode": {
    "name": "ipython",
    "version": 3
   },
   "file_extension": ".py",
   "mimetype": "text/x-python",
   "name": "python",
   "nbconvert_exporter": "python",
   "pygments_lexer": "ipython3",
   "version": "3.8.10"
  },
  "orig_nbformat": 4
 },
 "nbformat": 4,
 "nbformat_minor": 2
}
