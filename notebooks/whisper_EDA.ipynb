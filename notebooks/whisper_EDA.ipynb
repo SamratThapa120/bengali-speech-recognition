{
 "cells": [
  {
   "cell_type": "code",
   "execution_count": 1,
   "metadata": {},
   "outputs": [
    {
     "name": "stderr",
     "output_type": "stream",
     "text": [
      "/usr/local/lib/python3.8/dist-packages/tqdm/auto.py:22: TqdmWarning: IProgress not found. Please update jupyter and ipywidgets. See https://ipywidgets.readthedocs.io/en/stable/user_install.html\n",
      "  from .autonotebook import tqdm as notebook_tqdm\n"
     ]
    }
   ],
   "source": [
    "import whisper\n",
    "from whisper.tokenizer import Tokenizer, get_tokenizer\n",
    "\n",
    "model = whisper.load_model(\"base\")\n",
    "# result = model.transcribe(\"audio.mp3\")\n",
    "# print(result[\"text\"])"
   ]
  },
  {
   "cell_type": "code",
   "execution_count": 8,
   "metadata": {},
   "outputs": [
    {
     "data": {
      "text/plain": [
       "{'text': ' ھکتو بایش حلیں اکتی بیدیشی',\n",
       " 'segments': [{'id': 0,\n",
       "   'seek': 0,\n",
       "   'start': 0.0,\n",
       "   'end': 4.0,\n",
       "   'text': ' ھکتو بایش حلیں اکتی بیدیشی',\n",
       "   'tokens': [50364,\n",
       "    220,\n",
       "    14268,\n",
       "    6007,\n",
       "    2655,\n",
       "    2407,\n",
       "    4724,\n",
       "    995,\n",
       "    4135,\n",
       "    8592,\n",
       "    11331,\n",
       "    1211,\n",
       "    14768,\n",
       "    1975,\n",
       "    6007,\n",
       "    2655,\n",
       "    4135,\n",
       "    4724,\n",
       "    4135,\n",
       "    3215,\n",
       "    4135,\n",
       "    8592,\n",
       "    4135,\n",
       "    50564],\n",
       "   'temperature': 0.0,\n",
       "   'avg_logprob': -0.8725473022460938,\n",
       "   'compression_ratio': 0.9230769230769231,\n",
       "   'no_speech_prob': 0.05538018420338631}],\n",
       " 'language': 'bn'}"
      ]
     },
     "execution_count": 8,
     "metadata": {},
     "output_type": "execute_result"
    }
   ],
   "source": [
    "model.transcribe(\"/app/dataset/test_mp3s/0f3dac00655e.mp3\")"
   ]
  }
 ],
 "metadata": {
  "kernelspec": {
   "display_name": "Python 3",
   "language": "python",
   "name": "python3"
  },
  "language_info": {
   "codemirror_mode": {
    "name": "ipython",
    "version": 3
   },
   "file_extension": ".py",
   "mimetype": "text/x-python",
   "name": "python",
   "nbconvert_exporter": "python",
   "pygments_lexer": "ipython3",
   "version": "3.8.10"
  },
  "orig_nbformat": 4
 },
 "nbformat": 4,
 "nbformat_minor": 2
}
